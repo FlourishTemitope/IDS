{
 "cells": [
  {
   "cell_type": "markdown",
   "id": "7ffb51e1",
   "metadata": {},
   "source": [
    "# 1. DATASET LOADING\n",
    "\n",
    "The NSL-KDD datset is loaded after importing necessary libraries and algorithms "
   ]
  },
  {
   "cell_type": "markdown",
   "id": "a7972ed2",
   "metadata": {},
   "source": [
    "# 1.1 Import necessary libraries"
   ]
  },
  {
   "cell_type": "code",
   "execution_count": 2,
   "id": "9f8bdee1",
   "metadata": {},
   "outputs": [],
   "source": [
    "# Load data processing libraries\n",
    "import pandas as pd\n",
    "import numpy as np\n",
    "import matplotlib.pyplot as plt\n",
    "import seaborn as sns\n",
    "import math\n",
    "%matplotlib inline"
   ]
  },
  {
   "cell_type": "code",
   "execution_count": 3,
   "id": "3cf89104",
   "metadata": {},
   "outputs": [],
   "source": [
    "# Load machine learning libraries\n",
    "from sklearn.metrics import classification_report, confusion_matrix\n",
    "from sklearn.ensemble import RandomForestClassifier, ExtraTreesClassifier, BaggingClassifier\n",
    "from sklearn.preprocessing import StandardScaler\n",
    "from sklearn.model_selection import StratifiedShuffleSplit, GridSearchCV, cross_val_score\n",
    "from sklearn.neighbors import KNeighborsClassifier\n",
    "from sklearn.svm import SVC\n",
    "from sklearn.pipeline import make_pipeline\n",
    "from sklearn.decomposition import PCA\n",
    "from sklearn.neural_network import MLPClassifier"
   ]
  },
  {
   "cell_type": "markdown",
   "id": "d3c99f1b",
   "metadata": {},
   "source": [
    "# 1.2 Loading the dataset"
   ]
  },
  {
   "cell_type": "code",
   "execution_count": 4,
   "id": "fafb2707",
   "metadata": {},
   "outputs": [],
   "source": [
    "# Loading the data from the train and test files\n",
    "train_nt_df = pd.read_csv('datasets/train_nt_data.csv')\n",
    "test_nt_df = pd.read_csv('datasets/test_nt_data.csv')"
   ]
  },
  {
   "cell_type": "markdown",
   "id": "aa026656",
   "metadata": {},
   "source": [
    "# Datasets information"
   ]
  },
  {
   "cell_type": "code",
   "execution_count": 5,
   "id": "0d68a1a2",
   "metadata": {},
   "outputs": [
    {
     "name": "stdout",
     "output_type": "stream",
     "text": [
      "Test set size:  (22544, 41)\n",
      "Train set size:  (25192, 42)\n"
     ]
    }
   ],
   "source": [
    "# Print total size\n",
    "print(\"Test set size: \", test_nt_df.shape)\n",
    "print(\"Train set size: \", train_nt_df.shape)\n",
    "\n"
   ]
  },
  {
   "cell_type": "markdown",
   "id": "76b08f64",
   "metadata": {},
   "source": [
    "# 2.0  Data preprocessing"
   ]
  },
  {
   "cell_type": "markdown",
   "id": "ebc7b6b7",
   "metadata": {},
   "source": [
    "# Training dataset information"
   ]
  },
  {
   "cell_type": "code",
   "execution_count": 6,
   "id": "17a7fdc7",
   "metadata": {},
   "outputs": [
    {
     "name": "stdout",
     "output_type": "stream",
     "text": [
      "<class 'pandas.core.frame.DataFrame'>\n",
      "RangeIndex: 25192 entries, 0 to 25191\n",
      "Data columns (total 42 columns):\n",
      " #   Column                       Non-Null Count  Dtype  \n",
      "---  ------                       --------------  -----  \n",
      " 0   duration                     25192 non-null  int64  \n",
      " 1   protocol_type                25192 non-null  object \n",
      " 2   service                      25192 non-null  object \n",
      " 3   flag                         25192 non-null  object \n",
      " 4   src_bytes                    25192 non-null  int64  \n",
      " 5   dst_bytes                    25192 non-null  int64  \n",
      " 6   land                         25192 non-null  int64  \n",
      " 7   wrong_fragment               25192 non-null  int64  \n",
      " 8   urgent                       25192 non-null  int64  \n",
      " 9   hot                          25192 non-null  int64  \n",
      " 10  num_failed_logins            25192 non-null  int64  \n",
      " 11  logged_in                    25192 non-null  int64  \n",
      " 12  num_compromised              25192 non-null  int64  \n",
      " 13  root_shell                   25192 non-null  int64  \n",
      " 14  su_attempted                 25192 non-null  int64  \n",
      " 15  num_root                     25192 non-null  int64  \n",
      " 16  num_file_creations           25192 non-null  int64  \n",
      " 17  num_shells                   25192 non-null  int64  \n",
      " 18  num_access_files             25192 non-null  int64  \n",
      " 19  num_outbound_cmds            25192 non-null  int64  \n",
      " 20  is_host_login                25192 non-null  int64  \n",
      " 21  is_guest_login               25192 non-null  int64  \n",
      " 22  count                        25192 non-null  int64  \n",
      " 23  srv_count                    25192 non-null  int64  \n",
      " 24  serror_rate                  25192 non-null  float64\n",
      " 25  srv_serror_rate              25192 non-null  float64\n",
      " 26  rerror_rate                  25192 non-null  float64\n",
      " 27  srv_rerror_rate              25192 non-null  float64\n",
      " 28  same_srv_rate                25192 non-null  float64\n",
      " 29  diff_srv_rate                25192 non-null  float64\n",
      " 30  srv_diff_host_rate           25192 non-null  float64\n",
      " 31  dst_host_count               25192 non-null  int64  \n",
      " 32  dst_host_srv_count           25192 non-null  int64  \n",
      " 33  dst_host_same_srv_rate       25192 non-null  float64\n",
      " 34  dst_host_diff_srv_rate       25192 non-null  float64\n",
      " 35  dst_host_same_src_port_rate  25192 non-null  float64\n",
      " 36  dst_host_srv_diff_host_rate  25192 non-null  float64\n",
      " 37  dst_host_serror_rate         25192 non-null  float64\n",
      " 38  dst_host_srv_serror_rate     25192 non-null  float64\n",
      " 39  dst_host_rerror_rate         25192 non-null  float64\n",
      " 40  dst_host_srv_rerror_rate     25192 non-null  float64\n",
      " 41  class                        25192 non-null  object \n",
      "dtypes: float64(15), int64(23), object(4)\n",
      "memory usage: 8.1+ MB\n"
     ]
    }
   ],
   "source": [
    "train_nt_df.info()"
   ]
  },
  {
   "cell_type": "code",
   "execution_count": 7,
   "id": "73d7a0f4",
   "metadata": {},
   "outputs": [
    {
     "data": {
      "text/plain": [
       "normal     13449\n",
       "anomaly    11743\n",
       "Name: class, dtype: int64"
      ]
     },
     "execution_count": 7,
     "metadata": {},
     "output_type": "execute_result"
    }
   ],
   "source": [
    "train_nt_df['class'].value_counts()"
   ]
  },
  {
   "cell_type": "code",
   "execution_count": 8,
   "id": "3df19319",
   "metadata": {},
   "outputs": [
    {
     "name": "stdout",
     "output_type": "stream",
     "text": [
      "Trainig Dataset Shape (25192, 42)\n",
      "\n",
      "Trainig Dataset column info Index(['duration', 'protocol_type', 'service', 'flag', 'src_bytes',\n",
      "       'dst_bytes', 'land', 'wrong_fragment', 'urgent', 'hot',\n",
      "       'num_failed_logins', 'logged_in', 'num_compromised', 'root_shell',\n",
      "       'su_attempted', 'num_root', 'num_file_creations', 'num_shells',\n",
      "       'num_access_files', 'num_outbound_cmds', 'is_host_login',\n",
      "       'is_guest_login', 'count', 'srv_count', 'serror_rate',\n",
      "       'srv_serror_rate', 'rerror_rate', 'srv_rerror_rate', 'same_srv_rate',\n",
      "       'diff_srv_rate', 'srv_diff_host_rate', 'dst_host_count',\n",
      "       'dst_host_srv_count', 'dst_host_same_srv_rate',\n",
      "       'dst_host_diff_srv_rate', 'dst_host_same_src_port_rate',\n",
      "       'dst_host_srv_diff_host_rate', 'dst_host_serror_rate',\n",
      "       'dst_host_srv_serror_rate', 'dst_host_rerror_rate',\n",
      "       'dst_host_srv_rerror_rate', 'class'],\n",
      "      dtype='object')\n"
     ]
    }
   ],
   "source": [
    "def training_set_info(df):\n",
    "    print (\"Training Dataset Shape\", df.shape)\n",
    "    print()\n",
    "    print(\"Training Dataset column info\", df.columns)\n",
    "\n",
    "training_set_info(train_nt_df)"
   ]
  },
  {
   "cell_type": "markdown",
   "id": "6c36041c",
   "metadata": {},
   "source": [
    "# Dataset Structure"
   ]
  },
  {
   "cell_type": "code",
   "execution_count": 9,
   "id": "ac9298be",
   "metadata": {},
   "outputs": [
    {
     "data": {
      "text/html": [
       "<div>\n",
       "<style scoped>\n",
       "    .dataframe tbody tr th:only-of-type {\n",
       "        vertical-align: middle;\n",
       "    }\n",
       "\n",
       "    .dataframe tbody tr th {\n",
       "        vertical-align: top;\n",
       "    }\n",
       "\n",
       "    .dataframe thead th {\n",
       "        text-align: right;\n",
       "    }\n",
       "</style>\n",
       "<table border=\"1\" class=\"dataframe\">\n",
       "  <thead>\n",
       "    <tr style=\"text-align: right;\">\n",
       "      <th></th>\n",
       "      <th>duration</th>\n",
       "      <th>protocol_type</th>\n",
       "      <th>service</th>\n",
       "      <th>flag</th>\n",
       "      <th>src_bytes</th>\n",
       "      <th>dst_bytes</th>\n",
       "      <th>land</th>\n",
       "      <th>wrong_fragment</th>\n",
       "      <th>urgent</th>\n",
       "      <th>hot</th>\n",
       "      <th>...</th>\n",
       "      <th>dst_host_srv_count</th>\n",
       "      <th>dst_host_same_srv_rate</th>\n",
       "      <th>dst_host_diff_srv_rate</th>\n",
       "      <th>dst_host_same_src_port_rate</th>\n",
       "      <th>dst_host_srv_diff_host_rate</th>\n",
       "      <th>dst_host_serror_rate</th>\n",
       "      <th>dst_host_srv_serror_rate</th>\n",
       "      <th>dst_host_rerror_rate</th>\n",
       "      <th>dst_host_srv_rerror_rate</th>\n",
       "      <th>class</th>\n",
       "    </tr>\n",
       "  </thead>\n",
       "  <tbody>\n",
       "    <tr>\n",
       "      <th>0</th>\n",
       "      <td>0</td>\n",
       "      <td>tcp</td>\n",
       "      <td>ftp_data</td>\n",
       "      <td>SF</td>\n",
       "      <td>491</td>\n",
       "      <td>0</td>\n",
       "      <td>0</td>\n",
       "      <td>0</td>\n",
       "      <td>0</td>\n",
       "      <td>0</td>\n",
       "      <td>...</td>\n",
       "      <td>25</td>\n",
       "      <td>0.17</td>\n",
       "      <td>0.03</td>\n",
       "      <td>0.17</td>\n",
       "      <td>0.00</td>\n",
       "      <td>0.00</td>\n",
       "      <td>0.00</td>\n",
       "      <td>0.05</td>\n",
       "      <td>0.00</td>\n",
       "      <td>normal</td>\n",
       "    </tr>\n",
       "    <tr>\n",
       "      <th>1</th>\n",
       "      <td>0</td>\n",
       "      <td>udp</td>\n",
       "      <td>other</td>\n",
       "      <td>SF</td>\n",
       "      <td>146</td>\n",
       "      <td>0</td>\n",
       "      <td>0</td>\n",
       "      <td>0</td>\n",
       "      <td>0</td>\n",
       "      <td>0</td>\n",
       "      <td>...</td>\n",
       "      <td>1</td>\n",
       "      <td>0.00</td>\n",
       "      <td>0.60</td>\n",
       "      <td>0.88</td>\n",
       "      <td>0.00</td>\n",
       "      <td>0.00</td>\n",
       "      <td>0.00</td>\n",
       "      <td>0.00</td>\n",
       "      <td>0.00</td>\n",
       "      <td>normal</td>\n",
       "    </tr>\n",
       "    <tr>\n",
       "      <th>2</th>\n",
       "      <td>0</td>\n",
       "      <td>tcp</td>\n",
       "      <td>private</td>\n",
       "      <td>S0</td>\n",
       "      <td>0</td>\n",
       "      <td>0</td>\n",
       "      <td>0</td>\n",
       "      <td>0</td>\n",
       "      <td>0</td>\n",
       "      <td>0</td>\n",
       "      <td>...</td>\n",
       "      <td>26</td>\n",
       "      <td>0.10</td>\n",
       "      <td>0.05</td>\n",
       "      <td>0.00</td>\n",
       "      <td>0.00</td>\n",
       "      <td>1.00</td>\n",
       "      <td>1.00</td>\n",
       "      <td>0.00</td>\n",
       "      <td>0.00</td>\n",
       "      <td>anomaly</td>\n",
       "    </tr>\n",
       "    <tr>\n",
       "      <th>3</th>\n",
       "      <td>0</td>\n",
       "      <td>tcp</td>\n",
       "      <td>http</td>\n",
       "      <td>SF</td>\n",
       "      <td>232</td>\n",
       "      <td>8153</td>\n",
       "      <td>0</td>\n",
       "      <td>0</td>\n",
       "      <td>0</td>\n",
       "      <td>0</td>\n",
       "      <td>...</td>\n",
       "      <td>255</td>\n",
       "      <td>1.00</td>\n",
       "      <td>0.00</td>\n",
       "      <td>0.03</td>\n",
       "      <td>0.04</td>\n",
       "      <td>0.03</td>\n",
       "      <td>0.01</td>\n",
       "      <td>0.00</td>\n",
       "      <td>0.01</td>\n",
       "      <td>normal</td>\n",
       "    </tr>\n",
       "    <tr>\n",
       "      <th>4</th>\n",
       "      <td>0</td>\n",
       "      <td>tcp</td>\n",
       "      <td>http</td>\n",
       "      <td>SF</td>\n",
       "      <td>199</td>\n",
       "      <td>420</td>\n",
       "      <td>0</td>\n",
       "      <td>0</td>\n",
       "      <td>0</td>\n",
       "      <td>0</td>\n",
       "      <td>...</td>\n",
       "      <td>255</td>\n",
       "      <td>1.00</td>\n",
       "      <td>0.00</td>\n",
       "      <td>0.00</td>\n",
       "      <td>0.00</td>\n",
       "      <td>0.00</td>\n",
       "      <td>0.00</td>\n",
       "      <td>0.00</td>\n",
       "      <td>0.00</td>\n",
       "      <td>normal</td>\n",
       "    </tr>\n",
       "  </tbody>\n",
       "</table>\n",
       "<p>5 rows × 42 columns</p>\n",
       "</div>"
      ],
      "text/plain": [
       "   duration protocol_type   service flag  src_bytes  dst_bytes  land  \\\n",
       "0         0           tcp  ftp_data   SF        491          0     0   \n",
       "1         0           udp     other   SF        146          0     0   \n",
       "2         0           tcp   private   S0          0          0     0   \n",
       "3         0           tcp      http   SF        232       8153     0   \n",
       "4         0           tcp      http   SF        199        420     0   \n",
       "\n",
       "   wrong_fragment  urgent  hot  ...  dst_host_srv_count  \\\n",
       "0               0       0    0  ...                  25   \n",
       "1               0       0    0  ...                   1   \n",
       "2               0       0    0  ...                  26   \n",
       "3               0       0    0  ...                 255   \n",
       "4               0       0    0  ...                 255   \n",
       "\n",
       "   dst_host_same_srv_rate  dst_host_diff_srv_rate  \\\n",
       "0                    0.17                    0.03   \n",
       "1                    0.00                    0.60   \n",
       "2                    0.10                    0.05   \n",
       "3                    1.00                    0.00   \n",
       "4                    1.00                    0.00   \n",
       "\n",
       "   dst_host_same_src_port_rate  dst_host_srv_diff_host_rate  \\\n",
       "0                         0.17                         0.00   \n",
       "1                         0.88                         0.00   \n",
       "2                         0.00                         0.00   \n",
       "3                         0.03                         0.04   \n",
       "4                         0.00                         0.00   \n",
       "\n",
       "   dst_host_serror_rate  dst_host_srv_serror_rate  dst_host_rerror_rate  \\\n",
       "0                  0.00                      0.00                  0.05   \n",
       "1                  0.00                      0.00                  0.00   \n",
       "2                  1.00                      1.00                  0.00   \n",
       "3                  0.03                      0.01                  0.00   \n",
       "4                  0.00                      0.00                  0.00   \n",
       "\n",
       "   dst_host_srv_rerror_rate    class  \n",
       "0                      0.00   normal  \n",
       "1                      0.00   normal  \n",
       "2                      0.00  anomaly  \n",
       "3                      0.01   normal  \n",
       "4                      0.00   normal  \n",
       "\n",
       "[5 rows x 42 columns]"
      ]
     },
     "execution_count": 9,
     "metadata": {},
     "output_type": "execute_result"
    }
   ],
   "source": [
    "train_nt_df.head()"
   ]
  },
  {
   "cell_type": "markdown",
   "id": "ad4feb62",
   "metadata": {},
   "source": [
    "# Checking for missing Data"
   ]
  },
  {
   "cell_type": "code",
   "execution_count": 10,
   "id": "bf9bbb43",
   "metadata": {},
   "outputs": [
    {
     "name": "stdout",
     "output_type": "stream",
     "text": [
      "==== Train data ====\n",
      "duration                       0\n",
      "protocol_type                  0\n",
      "service                        0\n",
      "flag                           0\n",
      "src_bytes                      0\n",
      "dst_bytes                      0\n",
      "land                           0\n",
      "wrong_fragment                 0\n",
      "urgent                         0\n",
      "hot                            0\n",
      "num_failed_logins              0\n",
      "logged_in                      0\n",
      "num_compromised                0\n",
      "root_shell                     0\n",
      "su_attempted                   0\n",
      "num_root                       0\n",
      "num_file_creations             0\n",
      "num_shells                     0\n",
      "num_access_files               0\n",
      "num_outbound_cmds              0\n",
      "is_host_login                  0\n",
      "is_guest_login                 0\n",
      "count                          0\n",
      "srv_count                      0\n",
      "serror_rate                    0\n",
      "srv_serror_rate                0\n",
      "rerror_rate                    0\n",
      "srv_rerror_rate                0\n",
      "same_srv_rate                  0\n",
      "diff_srv_rate                  0\n",
      "srv_diff_host_rate             0\n",
      "dst_host_count                 0\n",
      "dst_host_srv_count             0\n",
      "dst_host_same_srv_rate         0\n",
      "dst_host_diff_srv_rate         0\n",
      "dst_host_same_src_port_rate    0\n",
      "dst_host_srv_diff_host_rate    0\n",
      "dst_host_serror_rate           0\n",
      "dst_host_srv_serror_rate       0\n",
      "dst_host_rerror_rate           0\n",
      "dst_host_srv_rerror_rate       0\n",
      "class                          0\n",
      "dtype: int64\n",
      "\n",
      "==== Test data ====\n",
      "duration                       0\n",
      "protocol_type                  0\n",
      "service                        0\n",
      "flag                           0\n",
      "src_bytes                      0\n",
      "dst_bytes                      0\n",
      "land                           0\n",
      "wrong_fragment                 0\n",
      "urgent                         0\n",
      "hot                            0\n",
      "num_failed_logins              0\n",
      "logged_in                      0\n",
      "num_compromised                0\n",
      "root_shell                     0\n",
      "su_attempted                   0\n",
      "num_root                       0\n",
      "num_file_creations             0\n",
      "num_shells                     0\n",
      "num_access_files               0\n",
      "num_outbound_cmds              0\n",
      "is_host_login                  0\n",
      "is_guest_login                 0\n",
      "count                          0\n",
      "srv_count                      0\n",
      "serror_rate                    0\n",
      "srv_serror_rate                0\n",
      "rerror_rate                    0\n",
      "srv_rerror_rate                0\n",
      "same_srv_rate                  0\n",
      "diff_srv_rate                  0\n",
      "srv_diff_host_rate             0\n",
      "dst_host_count                 0\n",
      "dst_host_srv_count             0\n",
      "dst_host_same_srv_rate         0\n",
      "dst_host_diff_srv_rate         0\n",
      "dst_host_same_src_port_rate    0\n",
      "dst_host_srv_diff_host_rate    0\n",
      "dst_host_serror_rate           0\n",
      "dst_host_srv_serror_rate       0\n",
      "dst_host_rerror_rate           0\n",
      "dst_host_srv_rerror_rate       0\n",
      "dtype: int64\n",
      "\n"
     ]
    }
   ],
   "source": [
    "# Check for missing values\n",
    "print('==== Train data ====')\n",
    "print(train_nt_df.isnull().sum())\n",
    "print()\n",
    "print('==== Test data ====')\n",
    "print(test_nt_df.isnull().sum())\n",
    "print()"
   ]
  },
  {
   "cell_type": "markdown",
   "id": "b9cfbd5c",
   "metadata": {},
   "source": [
    "# 3.0 Data Analysis"
   ]
  },
  {
   "cell_type": "code",
   "execution_count": 11,
   "id": "ae590191",
   "metadata": {},
   "outputs": [
    {
     "data": {
      "text/plain": [
       "duration                         int64\n",
       "protocol_type                   object\n",
       "service                         object\n",
       "flag                            object\n",
       "src_bytes                        int64\n",
       "dst_bytes                        int64\n",
       "land                             int64\n",
       "wrong_fragment                   int64\n",
       "urgent                           int64\n",
       "hot                              int64\n",
       "num_failed_logins                int64\n",
       "logged_in                        int64\n",
       "num_compromised                  int64\n",
       "root_shell                       int64\n",
       "su_attempted                     int64\n",
       "num_root                         int64\n",
       "num_file_creations               int64\n",
       "num_shells                       int64\n",
       "num_access_files                 int64\n",
       "num_outbound_cmds                int64\n",
       "is_host_login                    int64\n",
       "is_guest_login                   int64\n",
       "count                            int64\n",
       "srv_count                        int64\n",
       "serror_rate                    float64\n",
       "srv_serror_rate                float64\n",
       "rerror_rate                    float64\n",
       "srv_rerror_rate                float64\n",
       "same_srv_rate                  float64\n",
       "diff_srv_rate                  float64\n",
       "srv_diff_host_rate             float64\n",
       "dst_host_count                   int64\n",
       "dst_host_srv_count               int64\n",
       "dst_host_same_srv_rate         float64\n",
       "dst_host_diff_srv_rate         float64\n",
       "dst_host_same_src_port_rate    float64\n",
       "dst_host_srv_diff_host_rate    float64\n",
       "dst_host_serror_rate           float64\n",
       "dst_host_srv_serror_rate       float64\n",
       "dst_host_rerror_rate           float64\n",
       "dst_host_srv_rerror_rate       float64\n",
       "class                           object\n",
       "dtype: object"
      ]
     },
     "execution_count": 11,
     "metadata": {},
     "output_type": "execute_result"
    }
   ],
   "source": [
    "train_nt_df.dtypes"
   ]
  },
  {
   "cell_type": "markdown",
   "id": "184a5910",
   "metadata": {},
   "source": [
    "# Distribution of target variable"
   ]
  },
  {
   "cell_type": "code",
   "execution_count": 12,
   "id": "5a7a31fb",
   "metadata": {},
   "outputs": [
    {
     "data": {
      "text/plain": [
       "<AxesSubplot:xlabel='class', ylabel='count'>"
      ]
     },
     "execution_count": 12,
     "metadata": {},
     "output_type": "execute_result"
    },
    {
     "data": {
      "image/png": "[encoded data removed]",
      "text/plain": [
       "<Figure size 432x288 with 1 Axes>"
      ]
     },
     "metadata": {
      "needs_background": "light"
     },
     "output_type": "display_data"
    }
   ],
   "source": [
    "# Show the distribution of the target variable\n",
    "sns.countplot(x='class', data=train_nt_df)"
   ]
  },
  {
   "cell_type": "markdown",
   "id": "fff44de6",
   "metadata": {},
   "source": [
    "# Count the number of unique protocol_type\n"
   ]
  },
  {
   "cell_type": "code",
   "execution_count": 13,
   "id": "585a9eb2",
   "metadata": {},
   "outputs": [
    {
     "data": {
      "text/plain": [
       "tcp     20526\n",
       "udp      3011\n",
       "icmp     1655\n",
       "Name: protocol_type, dtype: int64"
      ]
     },
     "execution_count": 13,
     "metadata": {},
     "output_type": "execute_result"
    }
   ],
   "source": [
    "# Count the number of unique protocol_type\n",
    "train_nt_df['protocol_type'].value_counts()"
   ]
  },
  {
   "cell_type": "markdown",
   "id": "02a943cd",
   "metadata": {},
   "source": [
    "# Show protocol_type distribution for kind of class\n"
   ]
  },
  {
   "cell_type": "code",
   "execution_count": 14,
   "id": "5e5159a5",
   "metadata": {},
   "outputs": [
    {
     "data": {
      "text/plain": [
       "<AxesSubplot:xlabel='protocol_type', ylabel='count'>"
      ]
     },
     "execution_count": 14,
     "metadata": {},
     "output_type": "execute_result"
    },
    {
     "data": {
      "image/png": "[encoded data removed]",
      "text/plain": [
       "<Figure size 432x288 with 1 Axes>"
      ]
     },
     "metadata": {
      "needs_background": "light"
     },
     "output_type": "display_data"
    }
   ],
   "source": [
    "# Show protocol_type distribution for kind of class\n",
    "sns.countplot(x='protocol_type', hue='class', data=train_nt_df)"
   ]
  },
  {
   "cell_type": "code",
   "execution_count": 17,
   "id": "a3bf9253",
   "metadata": {},
   "outputs": [
    {
     "name": "stdout",
     "output_type": "stream",
     "text": [
      "Number of unique hosts in the train data:  3\n",
      "Number of unique hosts in the test data: 3 (~0% smaller)\n"
     ]
    }
   ],
   "source": [
    "# Find unique hosts (IP addresses) in the train and test data\n",
    "train_src_hosts = train_nt_df['protocol_type'].unique()\n",
    "train_dst_hosts = train_nt_df['protocol_type'].unique()\n",
    "train_hosts = np.union1d(train_src_hosts, train_dst_hosts)\n",
    "\n",
    "# For each host, count the number of flows\n",
    "print('Number of unique hosts in the train data: ', len(train_hosts))\n",
    "\n",
    "# Find unique hosts (IP addresses) in the train and test data\n",
    "test_src_hosts = test_nt_df['protocol_type'].unique()\n",
    "test_dst_hosts = test_nt_df['protocol_type'].unique()\n",
    "test_hosts = np.union1d(test_src_hosts, test_dst_hosts)\n",
    "\n",
    "# Floor ratio of hosts in test data that are not in train data\n",
    "ratio = math.floor((1.0-len(test_hosts)/len(train_hosts)) * 100)\n",
    "\n",
    "# For each host, count the number of flows\n",
    "print(\"Number of unique hosts in the test data: {} (~{}% smaller)\".format(len(test_hosts), ratio))\n"
   ]
  },
  {
   "cell_type": "code",
   "execution_count": 40,
   "id": "b69773c4",
   "metadata": {},
   "outputs": [],
   "source": [
    "# Revoked columns\n",
    "revoked_columns = [\n",
    "  'protocol_type', \n",
    "  'service', \n",
    "  'flag',\n",
    "]\n",
    "\n",
    "# # Create dummy columns for the ALERT column\n",
    "# alert_dummies = pd.get_dummies(train_df['ALERT'], prefix='ALERT', drop_first=True)\n",
    "\n",
    "# Copy + drop the revoked columns\n",
    "train_nt_df = train_nt_df.copy().drop(revoked_columns, axis=1)"
   ]
  },
  {
   "cell_type": "markdown",
   "id": "892f8563",
   "metadata": {},
   "source": [
    "# Splitting the training set"
   ]
  },
  {
   "cell_type": "code",
   "execution_count": 41,
   "id": "b44d6bbf",
   "metadata": {},
   "outputs": [],
   "source": [
    "def split_maintain_distribution(X, y):\n",
    "  sss=StratifiedShuffleSplit(n_splits=1, test_size=0.2, random_state=9)\n",
    "  indexes = sss.split(X, y)\n",
    "  train_indices, test_indices = next(indexes)\n",
    "  return X.iloc[train_indices], X.iloc[test_indices], y.iloc[train_indices], y.iloc[test_indices]\n",
    "\n"
   ]
  },
  {
   "cell_type": "code",
   "execution_count": 42,
   "id": "6852adc8",
   "metadata": {},
   "outputs": [],
   "source": [
    "X_train, X_val, y_train, y_val = split_maintain_distribution(train_nt_df.drop('class', axis=1), train_nt_df['class'])"
   ]
  },
  {
   "cell_type": "code",
   "execution_count": 43,
   "id": "823d4829",
   "metadata": {},
   "outputs": [
    {
     "name": "stdout",
     "output_type": "stream",
     "text": [
      "       duration  src_bytes  dst_bytes  land  wrong_fragment  urgent  hot  \\\n",
      "25175        10        139       2257     0               0       0    0   \n",
      "4269          0          0          0     0               0       0    0   \n",
      "1667          0        313       2698     0               0       0    0   \n",
      "19506         0       1032          0     0               0       0    0   \n",
      "20982         0          0          0     0               0       0    0   \n",
      "...         ...        ...        ...   ...             ...     ...  ...   \n",
      "19116         0          0          0     0               0       0    0   \n",
      "10389         0          0          0     0               0       0    0   \n",
      "10783         0          0          0     0               0       0    0   \n",
      "9485          0         78          0     0               0       0    0   \n",
      "16981         0        205        182     0               0       0    0   \n",
      "\n",
      "       num_failed_logins  logged_in  num_compromised  ...  dst_host_count  \\\n",
      "25175                  0          1                0  ...               1   \n",
      "4269                   0          0                0  ...             255   \n",
      "1667                   0          1                0  ...             255   \n",
      "19506                  0          0                0  ...             255   \n",
      "20982                  0          0                0  ...             255   \n",
      "...                  ...        ...              ...  ...             ...   \n",
      "19116                  0          0                0  ...             255   \n",
      "10389                  0          0                0  ...             255   \n",
      "10783                  0          0                0  ...             255   \n",
      "9485                   0          0                0  ...             255   \n",
      "16981                  0          1                0  ...             255   \n",
      "\n",
      "       dst_host_srv_count  dst_host_same_srv_rate  dst_host_diff_srv_rate  \\\n",
      "25175                   7                    1.00                    0.00   \n",
      "4269                   17                    0.07                    0.09   \n",
      "1667                  240                    0.94                    0.01   \n",
      "19506                 108                    0.42                    0.02   \n",
      "20982                  25                    0.10                    0.05   \n",
      "...                   ...                     ...                     ...   \n",
      "19116                   6                    0.02                    0.05   \n",
      "10389                   3                    0.01                    0.09   \n",
      "10783                   1                    0.00                    0.61   \n",
      "9485                   17                    0.07                    0.01   \n",
      "16981                 255                    1.00                    0.00   \n",
      "\n",
      "       dst_host_same_src_port_rate  dst_host_srv_diff_host_rate  \\\n",
      "25175                         1.00                         0.86   \n",
      "4269                          0.00                         0.00   \n",
      "1667                          0.00                         0.00   \n",
      "19506                         0.42                         0.00   \n",
      "20982                         0.00                         0.00   \n",
      "...                            ...                          ...   \n",
      "19116                         0.00                         0.00   \n",
      "10389                         0.00                         0.00   \n",
      "10783                         0.00                         0.00   \n",
      "9485                          0.07                         0.00   \n",
      "16981                         0.00                         0.00   \n",
      "\n",
      "       dst_host_serror_rate  dst_host_srv_serror_rate  dst_host_rerror_rate  \\\n",
      "25175                  0.00                       0.0                  0.00   \n",
      "4269                   1.00                       1.0                  0.00   \n",
      "1667                   0.00                       0.0                  0.00   \n",
      "19506                  0.02                       0.0                  0.00   \n",
      "20982                  1.00                       1.0                  0.00   \n",
      "...                     ...                       ...                   ...   \n",
      "19116                  1.00                       1.0                  0.00   \n",
      "10389                  1.00                       1.0                  0.00   \n",
      "10783                  0.00                       0.0                  0.57   \n",
      "9485                   0.00                       0.0                  0.00   \n",
      "16981                  0.00                       0.0                  0.00   \n",
      "\n",
      "       dst_host_srv_rerror_rate  \n",
      "25175                       0.0  \n",
      "4269                        0.0  \n",
      "1667                        0.0  \n",
      "19506                       0.0  \n",
      "20982                       0.0  \n",
      "...                         ...  \n",
      "19116                       0.0  \n",
      "10389                       0.0  \n",
      "10783                       1.0  \n",
      "9485                        0.0  \n",
      "16981                       0.0  \n",
      "\n",
      "[20153 rows x 38 columns]\n",
      "\n",
      "X VAL\n",
      "       duration  src_bytes  dst_bytes  land  wrong_fragment  urgent  hot  \\\n",
      "10494         0        309       3222     0               0       0    0   \n",
      "20516         0        363       2690     0               0       0    0   \n",
      "1561          0        289        658     0               0       0    0   \n",
      "10164         0        254        555     0               0       0    0   \n",
      "16615         0     175337          0     0               0       0    0   \n",
      "...         ...        ...        ...   ...             ...     ...  ...   \n",
      "21513         0      16115          0     0               0       0    0   \n",
      "19783         0        247      13225     0               0       0    0   \n",
      "6429          0        229       1483     0               0       0    0   \n",
      "11800         0        278       2251     0               0       0    0   \n",
      "5288          0       1470          0     0               0       0    0   \n",
      "\n",
      "       num_failed_logins  logged_in  num_compromised  ...  dst_host_count  \\\n",
      "10494                  0          1                0  ...             255   \n",
      "20516                  0          1                0  ...              12   \n",
      "1561                   0          1                0  ...             255   \n",
      "10164                  0          1                0  ...              45   \n",
      "16615                  0          1                0  ...              99   \n",
      "...                  ...        ...              ...  ...             ...   \n",
      "21513                  0          1                0  ...             202   \n",
      "19783                  0          1                0  ...             255   \n",
      "6429                   0          1                0  ...             220   \n",
      "11800                  0          1                0  ...              31   \n",
      "5288                   0          0                0  ...              28   \n",
      "\n",
      "       dst_host_srv_count  dst_host_same_srv_rate  dst_host_diff_srv_rate  \\\n",
      "10494                 248                    0.97                    0.01   \n",
      "20516                 255                    1.00                    0.00   \n",
      "1561                  255                    1.00                    0.00   \n",
      "10164                 170                    1.00                    0.00   \n",
      "16615                 133                    0.75                    0.04   \n",
      "...                   ...                     ...                     ...   \n",
      "21513                  61                    0.30                    0.02   \n",
      "19783                 255                    1.00                    0.00   \n",
      "6429                  255                    1.00                    0.00   \n",
      "11800                  45                    1.00                    0.00   \n",
      "5288                   20                    0.71                    0.07   \n",
      "\n",
      "       dst_host_same_src_port_rate  dst_host_srv_diff_host_rate  \\\n",
      "10494                         0.00                         0.00   \n",
      "20516                         0.08                         0.10   \n",
      "1561                          0.00                         0.00   \n",
      "10164                         0.02                         0.03   \n",
      "16615                         0.75                         0.02   \n",
      "...                            ...                          ...   \n",
      "21513                         0.30                         0.00   \n",
      "19783                         0.00                         0.00   \n",
      "6429                          0.00                         0.02   \n",
      "11800                         0.03                         0.04   \n",
      "5288                          0.71                         0.00   \n",
      "\n",
      "       dst_host_serror_rate  dst_host_srv_serror_rate  dst_host_rerror_rate  \\\n",
      "10494                  0.01                      0.01                   0.0   \n",
      "20516                  0.00                      0.00                   0.0   \n",
      "1561                   0.00                      0.00                   0.0   \n",
      "10164                  0.00                      0.00                   0.0   \n",
      "16615                  0.01                      0.00                   0.0   \n",
      "...                     ...                       ...                   ...   \n",
      "21513                  0.00                      0.00                   0.0   \n",
      "19783                  0.00                      0.00                   0.0   \n",
      "6429                   0.00                      0.00                   0.0   \n",
      "11800                  0.00                      0.00                   0.0   \n",
      "5288                   0.00                      0.00                   0.0   \n",
      "\n",
      "       dst_host_srv_rerror_rate  \n",
      "10494                       0.0  \n",
      "20516                       0.0  \n",
      "1561                        0.0  \n",
      "10164                       0.0  \n",
      "16615                       0.0  \n",
      "...                         ...  \n",
      "21513                       0.0  \n",
      "19783                       0.0  \n",
      "6429                        0.0  \n",
      "11800                       0.0  \n",
      "5288                        0.0  \n",
      "\n",
      "[5039 rows x 38 columns]\n",
      "\n",
      "Y TRAIN\n",
      "25175     normal\n",
      "4269     anomaly\n",
      "1667      normal\n",
      "19506    anomaly\n",
      "20982    anomaly\n",
      "          ...   \n",
      "19116    anomaly\n",
      "10389    anomaly\n",
      "10783    anomaly\n",
      "9485      normal\n",
      "16981     normal\n",
      "Name: class, Length: 20153, dtype: object\n",
      "\n",
      "Y VAL\n",
      "10494    normal\n",
      "20516    normal\n",
      "1561     normal\n",
      "10164    normal\n",
      "16615    normal\n",
      "          ...  \n",
      "21513    normal\n",
      "19783    normal\n",
      "6429     normal\n",
      "11800    normal\n",
      "5288     normal\n",
      "Name: class, Length: 5039, dtype: object\n",
      "\n"
     ]
    }
   ],
   "source": [
    "print(X_train)\n",
    "print()\n",
    "\n",
    "print(\"X VAL\")\n",
    "print(X_val)\n",
    "print()\n",
    "\n",
    "print(\"Y TRAIN\")\n",
    "print(y_train)\n",
    "print()\n",
    "\n",
    "print(\"Y VAL\")\n",
    "print(y_val)\n",
    "print()"
   ]
  },
  {
   "cell_type": "markdown",
   "id": "96dfd237",
   "metadata": {},
   "source": [
    "# Print distribution of the target variable in the train and validation sets\n"
   ]
  },
  {
   "cell_type": "code",
   "execution_count": 44,
   "id": "f289d1f0",
   "metadata": {},
   "outputs": [
    {
     "name": "stdout",
     "output_type": "stream",
     "text": [
      "Train set distribution:\n",
      "normal     0.533866\n",
      "anomaly    0.466134\n",
      "Name: class, dtype: float64\n",
      "\n",
      "Validation set distribution:\n",
      "normal     0.533836\n",
      "anomaly    0.466164\n",
      "Name: class, dtype: float64\n"
     ]
    }
   ],
   "source": [
    "# Print distribution of the target variable in the train and validation sets\n",
    "print('Train set distribution:')\n",
    "print(y_train.value_counts(normalize=True))\n",
    "print()\n",
    "print('Validation set distribution:')\n",
    "print(y_val.value_counts(normalize=True))"
   ]
  },
  {
   "cell_type": "code",
   "execution_count": null,
   "id": "c66ada45",
   "metadata": {},
   "outputs": [],
   "source": []
  },
  {
   "cell_type": "markdown",
   "id": "1d4a9f80",
   "metadata": {},
   "source": [
    "# Data Scaling"
   ]
  },
  {
   "cell_type": "code",
   "execution_count": 46,
   "id": "17488a41",
   "metadata": {},
   "outputs": [],
   "source": [
    "# Fix scaler on train set\n",
    "scaler = StandardScaler()\n",
    "fitter = scaler.fit(X_train)\n",
    "\n",
    "# Scale train and validation sets\n",
    "x_train_scaled = fitter.transform(X_train)\n",
    "x_validation_scaled = fitter.transform(X_val)\n",
    "\n",
    "# Convert to pandas dataframe\n",
    "df_feat_train = pd.DataFrame(x_train_scaled, columns=X_train.columns)\n",
    "df_feat_validation = pd.DataFrame(x_validation_scaled, columns=X_val.columns)"
   ]
  },
  {
   "cell_type": "markdown",
   "id": "fc5c2e51",
   "metadata": {},
   "source": [
    "# Creating and fitting into model"
   ]
  },
  {
   "cell_type": "code",
   "execution_count": 47,
   "id": "9011c189",
   "metadata": {},
   "outputs": [
    {
     "data": {
      "text/plain": [
       "RandomForestClassifier()"
      ]
     },
     "execution_count": 47,
     "metadata": {},
     "output_type": "execute_result"
    }
   ],
   "source": [
    "# Random Forest Classifier\n",
    "rfc = RandomForestClassifier(n_estimators=100) # 100 trees = default value\n",
    "\n",
    "# Fit the model\n",
    "rfc.fit(x_train_scaled, y_train)"
   ]
  },
  {
   "cell_type": "markdown",
   "id": "340a2edc",
   "metadata": {},
   "source": [
    "# Print features importance"
   ]
  },
  {
   "cell_type": "code",
   "execution_count": 51,
   "id": "a540876d",
   "metadata": {},
   "outputs": [
    {
     "name": "stdout",
     "output_type": "stream",
     "text": [
      "                             importance\n",
      "dst_bytes                      0.171788\n",
      "src_bytes                      0.155890\n",
      "dst_host_srv_count             0.081002\n",
      "same_srv_rate                  0.078897\n",
      "dst_host_same_srv_rate         0.059635\n",
      "diff_srv_rate                  0.059465\n",
      "logged_in                      0.059369\n",
      "count                          0.047759\n",
      "dst_host_diff_srv_rate         0.037662\n",
      "dst_host_same_src_port_rate    0.036986\n",
      "dst_host_count                 0.027770\n",
      "dst_host_srv_diff_host_rate    0.025058\n",
      "srv_count                      0.022711\n",
      "dst_host_serror_rate           0.018863\n",
      "srv_serror_rate                0.016863\n",
      "serror_rate                    0.016090\n",
      "dst_host_srv_serror_rate       0.014420\n",
      "dst_host_rerror_rate           0.012196\n",
      "dst_host_srv_rerror_rate       0.010468\n",
      "hot                            0.008806\n",
      "rerror_rate                    0.008535\n",
      "srv_rerror_rate                0.006634\n",
      "num_compromised                0.006012\n",
      "wrong_fragment                 0.005111\n",
      "duration                       0.004937\n",
      "srv_diff_host_rate             0.004764\n",
      "is_guest_login                 0.001024\n",
      "num_root                       0.000443\n",
      "num_failed_logins              0.000283\n",
      "num_file_creations             0.000201\n",
      "root_shell                     0.000147\n",
      "num_access_files               0.000128\n",
      "urgent                         0.000046\n",
      "su_attempted                   0.000018\n",
      "land                           0.000013\n",
      "num_shells                     0.000005\n",
      "is_host_login                  0.000000\n",
      "num_outbound_cmds              0.000000\n"
     ]
    }
   ],
   "source": [
    "# Print features importance\n",
    "feature_importances = pd.DataFrame(\n",
    "    rfc.feature_importances_,\n",
    "    index=X_train.columns,\n",
    "    columns=['importance']\n",
    ").sort_values('importance', ascending=False)\n",
    "print(feature_importances)"
   ]
  },
  {
   "cell_type": "markdown",
   "id": "226cc364",
   "metadata": {},
   "source": [
    "# Plot feature importance"
   ]
  },
  {
   "cell_type": "code",
   "execution_count": 52,
   "id": "232840d6",
   "metadata": {},
   "outputs": [
    {
     "data": {
      "text/plain": [
       "<AxesSubplot:ylabel='importance'>"
      ]
     },
     "execution_count": 52,
     "metadata": {},
     "output_type": "execute_result"
    },
    {
     "data": {
      "image/png": "[encoded data removed]",
      "text/plain": [
       "<Figure size 1440x720 with 1 Axes>"
      ]
     },
     "metadata": {
      "needs_background": "light"
     },
     "output_type": "display_data"
    }
   ],
   "source": [
    "# Plot feature importance\n",
    "plt.figure(figsize=(20, 10))\n",
    "plt.xticks(rotation=-90)\n",
    "sns.barplot(x=feature_importances.index, y=feature_importances['importance'])"
   ]
  },
  {
   "cell_type": "code",
   "execution_count": 55,
   "id": "2047278c",
   "metadata": {},
   "outputs": [],
   "source": [
    "MIN_IMPORTANCE_THRESHOLD = 0.01"
   ]
  },
  {
   "cell_type": "code",
   "execution_count": 56,
   "id": "9714311a",
   "metadata": {},
   "outputs": [
    {
     "data": {
      "text/plain": [
       "Index(['dst_bytes', 'src_bytes', 'dst_host_srv_count', 'same_srv_rate',\n",
       "       'dst_host_same_srv_rate', 'diff_srv_rate', 'logged_in', 'count',\n",
       "       'dst_host_diff_srv_rate', 'dst_host_same_src_port_rate',\n",
       "       'dst_host_count', 'dst_host_srv_diff_host_rate', 'srv_count',\n",
       "       'dst_host_serror_rate', 'srv_serror_rate', 'serror_rate',\n",
       "       'dst_host_srv_serror_rate', 'dst_host_rerror_rate',\n",
       "       'dst_host_srv_rerror_rate'],\n",
       "      dtype='object')"
      ]
     },
     "execution_count": 56,
     "metadata": {},
     "output_type": "execute_result"
    }
   ],
   "source": [
    "# Select all columns with importance > 0.02\n",
    "COLUMNS = feature_importances[feature_importances['importance'] > MIN_IMPORTANCE_THRESHOLD].index\n",
    "COLUMNS"
   ]
  },
  {
   "cell_type": "markdown",
   "id": "adaa928c",
   "metadata": {},
   "source": [
    "# Resplitting the dataset"
   ]
  },
  {
   "cell_type": "code",
   "execution_count": 58,
   "id": "aae9f638",
   "metadata": {},
   "outputs": [],
   "source": [
    "X_train, X_val, y_train, y_val = split_maintain_distribution(\n",
    "  train_nt_df[COLUMNS],\n",
    "  train_nt_df['class']\n",
    ")"
   ]
  },
  {
   "cell_type": "markdown",
   "id": "0d90a45c",
   "metadata": {},
   "source": [
    "# Rescalling the dataset with new features"
   ]
  },
  {
   "cell_type": "code",
   "execution_count": 63,
   "id": "405d4c50",
   "metadata": {},
   "outputs": [],
   "source": [
    "# Fix scaler on train set\n",
    "scaler = StandardScaler()\n",
    "fitter = scaler.fit(X_train)\n",
    "\n",
    "# Scale train and validation sets\n",
    "x_train_scaled = fitter.transform(X_train)\n",
    "x_validation_scaled = fitter.transform(X_val)\n",
    "\n",
    "# Convert to pandas dataframe\n",
    "df_feat_train = pd.DataFrame(x_train_scaled, columns=X_train.columns)\n",
    "df_feat_validation = pd.DataFrame(x_validation_scaled, columns=X_val.columns)"
   ]
  },
  {
   "cell_type": "code",
   "execution_count": 65,
   "id": "1bc8b1cc",
   "metadata": {},
   "outputs": [],
   "source": [
    "# test_nt_df"
   ]
  },
  {
   "cell_type": "code",
   "execution_count": 66,
   "id": "965e7772",
   "metadata": {},
   "outputs": [],
   "source": [
    "# No target variable, so no need to split the fit and transform\n",
    "x_test_scaled = StandardScaler().fit_transform(test_nt_df[COLUMNS])\n",
    "# Convert to pandas dataframe\n",
    "df_feat_test = pd.DataFrame(x_test_scaled, columns=test_nt_df[COLUMNS].columns)"
   ]
  },
  {
   "cell_type": "code",
   "execution_count": 67,
   "id": "2238d882",
   "metadata": {},
   "outputs": [
    {
     "data": {
      "text/html": [
       "<div>\n",
       "<style scoped>\n",
       "    .dataframe tbody tr th:only-of-type {\n",
       "        vertical-align: middle;\n",
       "    }\n",
       "\n",
       "    .dataframe tbody tr th {\n",
       "        vertical-align: top;\n",
       "    }\n",
       "\n",
       "    .dataframe thead th {\n",
       "        text-align: right;\n",
       "    }\n",
       "</style>\n",
       "<table border=\"1\" class=\"dataframe\">\n",
       "  <thead>\n",
       "    <tr style=\"text-align: right;\">\n",
       "      <th></th>\n",
       "      <th>dst_bytes</th>\n",
       "      <th>src_bytes</th>\n",
       "      <th>dst_host_srv_count</th>\n",
       "      <th>same_srv_rate</th>\n",
       "      <th>dst_host_same_srv_rate</th>\n",
       "      <th>diff_srv_rate</th>\n",
       "      <th>logged_in</th>\n",
       "      <th>count</th>\n",
       "      <th>dst_host_diff_srv_rate</th>\n",
       "      <th>dst_host_same_src_port_rate</th>\n",
       "      <th>dst_host_count</th>\n",
       "      <th>dst_host_srv_diff_host_rate</th>\n",
       "      <th>srv_count</th>\n",
       "      <th>dst_host_serror_rate</th>\n",
       "      <th>srv_serror_rate</th>\n",
       "      <th>serror_rate</th>\n",
       "      <th>dst_host_srv_serror_rate</th>\n",
       "      <th>dst_host_rerror_rate</th>\n",
       "      <th>dst_host_srv_rerror_rate</th>\n",
       "    </tr>\n",
       "  </thead>\n",
       "  <tbody>\n",
       "    <tr>\n",
       "      <th>0</th>\n",
       "      <td>-0.096896</td>\n",
       "      <td>-0.021988</td>\n",
       "      <td>-1.169697</td>\n",
       "      <td>-1.697859</td>\n",
       "      <td>-1.305370</td>\n",
       "      <td>-0.131492</td>\n",
       "      <td>-0.890373</td>\n",
       "      <td>1.166764</td>\n",
       "      <td>-0.138370</td>\n",
       "      <td>-0.431856</td>\n",
       "      <td>0.650093</td>\n",
       "      <td>-0.229980</td>\n",
       "      <td>-0.237191</td>\n",
       "      <td>-0.358118</td>\n",
       "      <td>-0.347390</td>\n",
       "      <td>-0.348468</td>\n",
       "      <td>-0.35275</td>\n",
       "      <td>1.979791</td>\n",
       "      <td>1.929116</td>\n",
       "    </tr>\n",
       "    <tr>\n",
       "      <th>1</th>\n",
       "      <td>-0.096896</td>\n",
       "      <td>-0.021988</td>\n",
       "      <td>-1.250212</td>\n",
       "      <td>-1.770589</td>\n",
       "      <td>-1.397181</td>\n",
       "      <td>-0.131492</td>\n",
       "      <td>-0.890373</td>\n",
       "      <td>0.443234</td>\n",
       "      <td>-0.138370</td>\n",
       "      <td>-0.431856</td>\n",
       "      <td>0.650093</td>\n",
       "      <td>-0.229980</td>\n",
       "      <td>-0.338246</td>\n",
       "      <td>-0.358118</td>\n",
       "      <td>-0.347390</td>\n",
       "      <td>-0.348468</td>\n",
       "      <td>-0.35275</td>\n",
       "      <td>1.979791</td>\n",
       "      <td>1.929116</td>\n",
       "    </tr>\n",
       "    <tr>\n",
       "      <th>2</th>\n",
       "      <td>-0.096896</td>\n",
       "      <td>0.005473</td>\n",
       "      <td>-0.489800</td>\n",
       "      <td>0.629488</td>\n",
       "      <td>0.002934</td>\n",
       "      <td>-0.363035</td>\n",
       "      <td>-0.890373</td>\n",
       "      <td>-0.607053</td>\n",
       "      <td>-0.228985</td>\n",
       "      <td>1.559906</td>\n",
       "      <td>-0.636681</td>\n",
       "      <td>0.004234</td>\n",
       "      <td>-0.338246</td>\n",
       "      <td>-0.358118</td>\n",
       "      <td>-0.347390</td>\n",
       "      <td>-0.348468</td>\n",
       "      <td>-0.35275</td>\n",
       "      <td>-0.602719</td>\n",
       "      <td>-0.565483</td>\n",
       "    </tr>\n",
       "    <tr>\n",
       "      <th>3</th>\n",
       "      <td>-0.096896</td>\n",
       "      <td>-0.021946</td>\n",
       "      <td>-0.749234</td>\n",
       "      <td>0.629488</td>\n",
       "      <td>0.898090</td>\n",
       "      <td>-0.363035</td>\n",
       "      <td>-0.890373</td>\n",
       "      <td>-0.607053</td>\n",
       "      <td>-0.410217</td>\n",
       "      <td>2.833328</td>\n",
       "      <td>-2.029801</td>\n",
       "      <td>3.049016</td>\n",
       "      <td>0.380366</td>\n",
       "      <td>-0.358118</td>\n",
       "      <td>-0.347390</td>\n",
       "      <td>-0.348468</td>\n",
       "      <td>-0.35275</td>\n",
       "      <td>-0.602719</td>\n",
       "      <td>-0.565483</td>\n",
       "    </tr>\n",
       "    <tr>\n",
       "      <th>4</th>\n",
       "      <td>-0.096189</td>\n",
       "      <td>-0.021988</td>\n",
       "      <td>-0.489800</td>\n",
       "      <td>0.629488</td>\n",
       "      <td>-0.685647</td>\n",
       "      <td>-0.363035</td>\n",
       "      <td>-0.890373</td>\n",
       "      <td>-0.607053</td>\n",
       "      <td>0.360018</td>\n",
       "      <td>-0.333901</td>\n",
       "      <td>-1.753304</td>\n",
       "      <td>0.004234</td>\n",
       "      <td>-0.259648</td>\n",
       "      <td>-0.358118</td>\n",
       "      <td>0.054856</td>\n",
       "      <td>-0.348468</td>\n",
       "      <td>-0.35275</td>\n",
       "      <td>1.540764</td>\n",
       "      <td>1.205682</td>\n",
       "    </tr>\n",
       "    <tr>\n",
       "      <th>...</th>\n",
       "      <td>...</td>\n",
       "      <td>...</td>\n",
       "      <td>...</td>\n",
       "      <td>...</td>\n",
       "      <td>...</td>\n",
       "      <td>...</td>\n",
       "      <td>...</td>\n",
       "      <td>...</td>\n",
       "      <td>...</td>\n",
       "      <td>...</td>\n",
       "      <td>...</td>\n",
       "      <td>...</td>\n",
       "      <td>...</td>\n",
       "      <td>...</td>\n",
       "      <td>...</td>\n",
       "      <td>...</td>\n",
       "      <td>...</td>\n",
       "      <td>...</td>\n",
       "      <td>...</td>\n",
       "    </tr>\n",
       "    <tr>\n",
       "      <th>22539</th>\n",
       "      <td>-0.081202</td>\n",
       "      <td>-0.020309</td>\n",
       "      <td>0.002232</td>\n",
       "      <td>0.629488</td>\n",
       "      <td>0.255414</td>\n",
       "      <td>-0.363035</td>\n",
       "      <td>1.123125</td>\n",
       "      <td>-0.607053</td>\n",
       "      <td>-0.138370</td>\n",
       "      <td>-0.399204</td>\n",
       "      <td>-0.998254</td>\n",
       "      <td>-0.112873</td>\n",
       "      <td>-0.338246</td>\n",
       "      <td>-0.321505</td>\n",
       "      <td>-0.347390</td>\n",
       "      <td>-0.348468</td>\n",
       "      <td>-0.35275</td>\n",
       "      <td>-0.602719</td>\n",
       "      <td>-0.565483</td>\n",
       "    </tr>\n",
       "    <tr>\n",
       "      <th>22540</th>\n",
       "      <td>-0.052690</td>\n",
       "      <td>-0.021318</td>\n",
       "      <td>1.022079</td>\n",
       "      <td>0.629488</td>\n",
       "      <td>0.898090</td>\n",
       "      <td>-0.363035</td>\n",
       "      <td>1.123125</td>\n",
       "      <td>-0.599273</td>\n",
       "      <td>-0.410217</td>\n",
       "      <td>-0.399204</td>\n",
       "      <td>0.033292</td>\n",
       "      <td>-0.112873</td>\n",
       "      <td>-0.225963</td>\n",
       "      <td>-0.321505</td>\n",
       "      <td>-0.347390</td>\n",
       "      <td>-0.348468</td>\n",
       "      <td>-0.35275</td>\n",
       "      <td>-0.602719</td>\n",
       "      <td>-0.565483</td>\n",
       "    </tr>\n",
       "    <tr>\n",
       "      <th>22541</th>\n",
       "      <td>0.294926</td>\n",
       "      <td>0.093373</td>\n",
       "      <td>1.022079</td>\n",
       "      <td>0.629488</td>\n",
       "      <td>0.898090</td>\n",
       "      <td>-0.363035</td>\n",
       "      <td>1.123125</td>\n",
       "      <td>-0.575933</td>\n",
       "      <td>-0.410217</td>\n",
       "      <td>-0.431856</td>\n",
       "      <td>0.650093</td>\n",
       "      <td>-0.229980</td>\n",
       "      <td>-0.237191</td>\n",
       "      <td>-0.358118</td>\n",
       "      <td>-0.347390</td>\n",
       "      <td>-0.348468</td>\n",
       "      <td>-0.35275</td>\n",
       "      <td>-0.421943</td>\n",
       "      <td>-0.390861</td>\n",
       "    </tr>\n",
       "    <tr>\n",
       "      <th>22542</th>\n",
       "      <td>-0.094917</td>\n",
       "      <td>-0.021899</td>\n",
       "      <td>0.995240</td>\n",
       "      <td>0.629488</td>\n",
       "      <td>0.875137</td>\n",
       "      <td>-0.363035</td>\n",
       "      <td>-0.890373</td>\n",
       "      <td>-0.583713</td>\n",
       "      <td>-0.364909</td>\n",
       "      <td>-0.431856</td>\n",
       "      <td>0.650093</td>\n",
       "      <td>-0.229980</td>\n",
       "      <td>-0.282104</td>\n",
       "      <td>-0.358118</td>\n",
       "      <td>-0.347390</td>\n",
       "      <td>-0.348468</td>\n",
       "      <td>-0.35275</td>\n",
       "      <td>-0.602719</td>\n",
       "      <td>-0.565483</td>\n",
       "    </tr>\n",
       "    <tr>\n",
       "      <th>22543</th>\n",
       "      <td>-0.096896</td>\n",
       "      <td>-0.021988</td>\n",
       "      <td>-1.071291</td>\n",
       "      <td>-1.188752</td>\n",
       "      <td>-1.213559</td>\n",
       "      <td>3.496004</td>\n",
       "      <td>-0.890373</td>\n",
       "      <td>-0.583713</td>\n",
       "      <td>-0.274293</td>\n",
       "      <td>-0.431856</td>\n",
       "      <td>0.650093</td>\n",
       "      <td>-0.229980</td>\n",
       "      <td>-0.237191</td>\n",
       "      <td>-0.358118</td>\n",
       "      <td>-0.347390</td>\n",
       "      <td>-0.348468</td>\n",
       "      <td>-0.35275</td>\n",
       "      <td>0.533585</td>\n",
       "      <td>1.929116</td>\n",
       "    </tr>\n",
       "  </tbody>\n",
       "</table>\n",
       "<p>22544 rows × 19 columns</p>\n",
       "</div>"
      ],
      "text/plain": [
       "       dst_bytes  src_bytes  dst_host_srv_count  same_srv_rate  \\\n",
       "0      -0.096896  -0.021988           -1.169697      -1.697859   \n",
       "1      -0.096896  -0.021988           -1.250212      -1.770589   \n",
       "2      -0.096896   0.005473           -0.489800       0.629488   \n",
       "3      -0.096896  -0.021946           -0.749234       0.629488   \n",
       "4      -0.096189  -0.021988           -0.489800       0.629488   \n",
       "...          ...        ...                 ...            ...   \n",
       "22539  -0.081202  -0.020309            0.002232       0.629488   \n",
       "22540  -0.052690  -0.021318            1.022079       0.629488   \n",
       "22541   0.294926   0.093373            1.022079       0.629488   \n",
       "22542  -0.094917  -0.021899            0.995240       0.629488   \n",
       "22543  -0.096896  -0.021988           -1.071291      -1.188752   \n",
       "\n",
       "       dst_host_same_srv_rate  diff_srv_rate  logged_in     count  \\\n",
       "0                   -1.305370      -0.131492  -0.890373  1.166764   \n",
       "1                   -1.397181      -0.131492  -0.890373  0.443234   \n",
       "2                    0.002934      -0.363035  -0.890373 -0.607053   \n",
       "3                    0.898090      -0.363035  -0.890373 -0.607053   \n",
       "4                   -0.685647      -0.363035  -0.890373 -0.607053   \n",
       "...                       ...            ...        ...       ...   \n",
       "22539                0.255414      -0.363035   1.123125 -0.607053   \n",
       "22540                0.898090      -0.363035   1.123125 -0.599273   \n",
       "22541                0.898090      -0.363035   1.123125 -0.575933   \n",
       "22542                0.875137      -0.363035  -0.890373 -0.583713   \n",
       "22543               -1.213559       3.496004  -0.890373 -0.583713   \n",
       "\n",
       "       dst_host_diff_srv_rate  dst_host_same_src_port_rate  dst_host_count  \\\n",
       "0                   -0.138370                    -0.431856        0.650093   \n",
       "1                   -0.138370                    -0.431856        0.650093   \n",
       "2                   -0.228985                     1.559906       -0.636681   \n",
       "3                   -0.410217                     2.833328       -2.029801   \n",
       "4                    0.360018                    -0.333901       -1.753304   \n",
       "...                       ...                          ...             ...   \n",
       "22539               -0.138370                    -0.399204       -0.998254   \n",
       "22540               -0.410217                    -0.399204        0.033292   \n",
       "22541               -0.410217                    -0.431856        0.650093   \n",
       "22542               -0.364909                    -0.431856        0.650093   \n",
       "22543               -0.274293                    -0.431856        0.650093   \n",
       "\n",
       "       dst_host_srv_diff_host_rate  srv_count  dst_host_serror_rate  \\\n",
       "0                        -0.229980  -0.237191             -0.358118   \n",
       "1                        -0.229980  -0.338246             -0.358118   \n",
       "2                         0.004234  -0.338246             -0.358118   \n",
       "3                         3.049016   0.380366             -0.358118   \n",
       "4                         0.004234  -0.259648             -0.358118   \n",
       "...                            ...        ...                   ...   \n",
       "22539                    -0.112873  -0.338246             -0.321505   \n",
       "22540                    -0.112873  -0.225963             -0.321505   \n",
       "22541                    -0.229980  -0.237191             -0.358118   \n",
       "22542                    -0.229980  -0.282104             -0.358118   \n",
       "22543                    -0.229980  -0.237191             -0.358118   \n",
       "\n",
       "       srv_serror_rate  serror_rate  dst_host_srv_serror_rate  \\\n",
       "0            -0.347390    -0.348468                  -0.35275   \n",
       "1            -0.347390    -0.348468                  -0.35275   \n",
       "2            -0.347390    -0.348468                  -0.35275   \n",
       "3            -0.347390    -0.348468                  -0.35275   \n",
       "4             0.054856    -0.348468                  -0.35275   \n",
       "...                ...          ...                       ...   \n",
       "22539        -0.347390    -0.348468                  -0.35275   \n",
       "22540        -0.347390    -0.348468                  -0.35275   \n",
       "22541        -0.347390    -0.348468                  -0.35275   \n",
       "22542        -0.347390    -0.348468                  -0.35275   \n",
       "22543        -0.347390    -0.348468                  -0.35275   \n",
       "\n",
       "       dst_host_rerror_rate  dst_host_srv_rerror_rate  \n",
       "0                  1.979791                  1.929116  \n",
       "1                  1.979791                  1.929116  \n",
       "2                 -0.602719                 -0.565483  \n",
       "3                 -0.602719                 -0.565483  \n",
       "4                  1.540764                  1.205682  \n",
       "...                     ...                       ...  \n",
       "22539             -0.602719                 -0.565483  \n",
       "22540             -0.602719                 -0.565483  \n",
       "22541             -0.421943                 -0.390861  \n",
       "22542             -0.602719                 -0.565483  \n",
       "22543              0.533585                  1.929116  \n",
       "\n",
       "[22544 rows x 19 columns]"
      ]
     },
     "execution_count": 67,
     "metadata": {},
     "output_type": "execute_result"
    }
   ],
   "source": [
    "df_feat_test"
   ]
  },
  {
   "cell_type": "markdown",
   "id": "eb204223",
   "metadata": {},
   "source": [
    "# # Create grid search parameters for Support vector machine (model training"
   ]
  },
  {
   "cell_type": "code",
   "execution_count": 68,
   "id": "a06522ce",
   "metadata": {},
   "outputs": [
    {
     "name": "stdout",
     "output_type": "stream",
     "text": [
      "Best params: {'C': 100, 'gamma': 1}\n",
      "Best score: 0.9866521482480888\n"
     ]
    }
   ],
   "source": [
    "# Create grid search parameters\n",
    "param_grid = {\n",
    "  'C': [0.1, 1, 10, 100, 1000],\n",
    "  'gamma': [1, 0.1, 0.01, 0.001, 0.0001],\n",
    "}\n",
    "\n",
    "# Create grid search\n",
    "svc_grid = GridSearchCV(\n",
    "  SVC(kernel=\"rbf\"),\n",
    "  param_grid,\n",
    "  cv=2, # Only 2 folds because of the size of the dataset, otherwise it takes too long\n",
    "  n_jobs=-1, # Use all cores\n",
    ")\n",
    "\n",
    "# Fit grid search\n",
    "svc_grid.fit(x_train_scaled, y_train)\n",
    "\n",
    "# Print information about the model\n",
    "print(f\"Best params: {svc_grid.best_params_}\")\n",
    "print(f\"Best score: {svc_grid.best_score_}\")"
   ]
  },
  {
   "cell_type": "code",
   "execution_count": 69,
   "id": "fda4ab87",
   "metadata": {},
   "outputs": [
    {
     "data": {
      "text/plain": [
       "SVC(C=100, gamma=1)"
      ]
     },
     "execution_count": 69,
     "metadata": {},
     "output_type": "execute_result"
    }
   ],
   "source": [
    "# Create SVM with best parameters\n",
    "svc = SVC(\n",
    "  kernel='rbf',\n",
    "  C=svc_grid.best_params_['C'],\n",
    "  gamma=svc_grid.best_params_['gamma'],\n",
    ")\n",
    "svc.fit(x_train_scaled, y_train)"
   ]
  },
  {
   "cell_type": "markdown",
   "id": "91bfc1d5",
   "metadata": {},
   "source": [
    "# Make predictions on validation set"
   ]
  },
  {
   "cell_type": "code",
   "execution_count": 75,
   "id": "f34655ba",
   "metadata": {},
   "outputs": [],
   "source": [
    "# Make predictions on validation set\n",
    "predictions = svc.predict(x_validation_scaled)"
   ]
  },
  {
   "cell_type": "markdown",
   "id": "f158ab9e",
   "metadata": {},
   "source": [
    "# Print the classification report (SVM)"
   ]
  },
  {
   "cell_type": "code",
   "execution_count": 76,
   "id": "e53968a8",
   "metadata": {},
   "outputs": [
    {
     "name": "stdout",
     "output_type": "stream",
     "text": [
      "              precision    recall  f1-score   support\n",
      "\n",
      "     anomaly       0.99      0.99      0.99      2349\n",
      "      normal       0.99      0.99      0.99      2690\n",
      "\n",
      "    accuracy                           0.99      5039\n",
      "   macro avg       0.99      0.99      0.99      5039\n",
      "weighted avg       0.99      0.99      0.99      5039\n",
      "\n"
     ]
    }
   ],
   "source": [
    "# Print the classification report\n",
    "print(classification_report(y_val, predictions))"
   ]
  },
  {
   "cell_type": "code",
   "execution_count": 85,
   "id": "24252c12",
   "metadata": {},
   "outputs": [
    {
     "name": "stdout",
     "output_type": "stream",
     "text": [
      "Using seaborn to visualize the confusion matrix on SVM\n",
      "\n"
     ]
    },
    {
     "data": {
      "text/plain": [
       "<AxesSubplot:>"
      ]
     },
     "execution_count": 85,
     "metadata": {},
     "output_type": "execute_result"
    },
    {
     "data": {
      "image/png": "[encoded data removed]",
      "text/plain": [
       "<Figure size 432x288 with 2 Axes>"
      ]
     },
     "metadata": {},
     "output_type": "display_data"
    }
   ],
   "source": [
    "# Rename the columns and index for the confusion matrix\n",
    "cmat = confusion_matrix(y_val, predictions)\n",
    "cmat = pd.DataFrame(cmat, index=['Anomaly', 'Normal'], columns=['Anomaly', 'Normal'])\n",
    "\n",
    "# Use seaborn to visualize the confusion matrix\n",
    "print(\"Using seaborn to visualize the confusion matrix on SVM\")\n",
    "print()\n",
    "sns.set(font_scale=1.4) # for label size\n",
    "sns.heatmap(cmat, annot=True, fmt='d', cmap='YlGnBu')"
   ]
  },
  {
   "cell_type": "markdown",
   "id": "68b44911",
   "metadata": {},
   "source": [
    "# Prediction on the test set"
   ]
  },
  {
   "cell_type": "code",
   "execution_count": 79,
   "id": "bb19a01f",
   "metadata": {},
   "outputs": [
    {
     "data": {
      "text/plain": [
       "normal     20310\n",
       "anomaly     2234\n",
       "dtype: int64"
      ]
     },
     "execution_count": 79,
     "metadata": {},
     "output_type": "execute_result"
    },
    {
     "data": {
      "image/png": "[encoded data removed]",
      "text/plain": [
       "<Figure size 432x288 with 1 Axes>"
      ]
     },
     "metadata": {},
     "output_type": "display_data"
    }
   ],
   "source": [
    "# Prediction on the test set\n",
    "predictions = svc.predict(x_test_scaled)\n",
    "\n",
    "\n",
    "# Show the predictions on a histogram\n",
    "fig = sns.countplot(x=predictions)\n",
    "fig.set_title('Predictions distribution on the test set') # Set the title\n",
    "fig.set_xticklabels(fig.get_xticklabels(), rotation=45) # Rotate x-labels\n",
    "pd.Series(predictions).value_counts() # Print the predictions size per class"
   ]
  },
  {
   "cell_type": "markdown",
   "id": "251b2c27",
   "metadata": {},
   "source": [
    "# Random Forest Classifier Training"
   ]
  },
  {
   "cell_type": "code",
   "execution_count": 80,
   "id": "e6a905a8",
   "metadata": {},
   "outputs": [
    {
     "name": "stdout",
     "output_type": "stream",
     "text": [
      "Best params: {'n_estimators': 50}\n",
      "Best score: 0.9950379300505598\n"
     ]
    }
   ],
   "source": [
    "# Create random forest classifier\n",
    "rfc = RandomForestClassifier()\n",
    "\n",
    "# Create a dictionary of all values we want to test for n_estimators\n",
    "parameters = {'n_estimators': [1, 2, 4, 10, 15, 20, 30, 40, 50, 100, 200, 500, 1000]}\n",
    "\n",
    "# Used to find the best n_estimators value to use to train the model\n",
    "rfc_grid = GridSearchCV(\n",
    "  rfc,\n",
    "  parameters,\n",
    "  scoring='accuracy',\n",
    "  cv=2, # Only 2 folds because of the size of the dataset, otherwise it takes too long\n",
    "  n_jobs=-1 # Use all cores\n",
    ")\n",
    "\n",
    "# Fit model to data\n",
    "rfc_grid.fit(x_train_scaled, y_train)\n",
    "\n",
    "# Extract best params\n",
    "print(f\"Best params: {rfc_grid.best_params_}\")\n",
    "print(f\"Best score: {rfc_grid.best_score_}\")"
   ]
  },
  {
   "cell_type": "code",
   "execution_count": 81,
   "id": "b3ebc1b0",
   "metadata": {},
   "outputs": [
    {
     "data": {
      "text/plain": [
       "RandomForestClassifier(n_estimators=50)"
      ]
     },
     "execution_count": 81,
     "metadata": {},
     "output_type": "execute_result"
    }
   ],
   "source": [
    "rfc = RandomForestClassifier(n_estimators=rfc_grid.best_params_['n_estimators'])\n",
    "rfc.fit(x_train_scaled, y_train)"
   ]
  },
  {
   "cell_type": "code",
   "execution_count": 82,
   "id": "3aafad38",
   "metadata": {},
   "outputs": [],
   "source": [
    "# Make predictions on validation set\n",
    "predictions = rfc.predict(x_validation_scaled)"
   ]
  },
  {
   "cell_type": "markdown",
   "id": "ad174fb4",
   "metadata": {},
   "source": [
    "# Print the classification report (RF)"
   ]
  },
  {
   "cell_type": "code",
   "execution_count": 83,
   "id": "029a2da6",
   "metadata": {},
   "outputs": [
    {
     "name": "stdout",
     "output_type": "stream",
     "text": [
      "              precision    recall  f1-score   support\n",
      "\n",
      "     anomaly       1.00      1.00      1.00      2349\n",
      "      normal       1.00      1.00      1.00      2690\n",
      "\n",
      "    accuracy                           1.00      5039\n",
      "   macro avg       1.00      1.00      1.00      5039\n",
      "weighted avg       1.00      1.00      1.00      5039\n",
      "\n"
     ]
    }
   ],
   "source": [
    "# Print the classification report\n",
    "print(classification_report(y_val, predictions))"
   ]
  },
  {
   "cell_type": "code",
   "execution_count": 86,
   "id": "b1fa86ac",
   "metadata": {},
   "outputs": [
    {
     "name": "stdout",
     "output_type": "stream",
     "text": [
      "Using seaborn to visualize the confusion matrix on RF\n"
     ]
    },
    {
     "data": {
      "text/plain": [
       "<AxesSubplot:>"
      ]
     },
     "execution_count": 86,
     "metadata": {},
     "output_type": "execute_result"
    },
    {
     "data": {
      "image/png": "[encoded data removed]",
      "text/plain": [
       "<Figure size 432x288 with 2 Axes>"
      ]
     },
     "metadata": {},
     "output_type": "display_data"
    }
   ],
   "source": [
    "# Rename the columns and index for the confusion matrix\n",
    "cmat = confusion_matrix(y_val, predictions)\n",
    "cmat = pd.DataFrame(cmat, index=['Anomaly', 'Normal'], columns=['Anomaly', 'Normal'])\n",
    "\n",
    "# Use seaborn to visualize the confusion matrix\n",
    "print(\"Using seaborn to visualize the confusion matrix on RF\")\n",
    "sns.set(font_scale=1.4) # for label size\n",
    "sns.heatmap(cmat, annot=True, fmt='d', cmap='YlGnBu')"
   ]
  },
  {
   "cell_type": "code",
   "execution_count": null,
   "id": "24cc13cd",
   "metadata": {},
   "outputs": [],
   "source": []
  },
  {
   "cell_type": "code",
   "execution_count": 87,
   "id": "c299a350",
   "metadata": {},
   "outputs": [
    {
     "data": {
      "text/plain": [
       "normal     11997\n",
       "anomaly    10547\n",
       "dtype: int64"
      ]
     },
     "execution_count": 87,
     "metadata": {},
     "output_type": "execute_result"
    },
    {
     "data": {
      "image/png": "[encoded data removed]",
      "text/plain": [
       "<Figure size 432x288 with 1 Axes>"
      ]
     },
     "metadata": {},
     "output_type": "display_data"
    }
   ],
   "source": [
    "# Prediction on the test set\n",
    "predictions = rfc.predict(x_test_scaled)\n",
    "\n",
    "# Show the predictions on a histogram\n",
    "fig = sns.countplot(x=predictions)\n",
    "fig.set_title('Predictions distribution on the test set') # Set the title\n",
    "fig.set_xticklabels(fig.get_xticklabels(), rotation=45) # Rotate x-labels\n",
    "pd.Series(predictions).value_counts() # Print the predictions size per class"
   ]
  },
  {
   "cell_type": "code",
   "execution_count": null,
   "id": "2980732e",
   "metadata": {},
   "outputs": [],
   "source": []
  }
 ],
 "metadata": {
  "kernelspec": {
   "display_name": "Python 3 (ipykernel)",
   "language": "python",
   "name": "python3"
  },
  "language_info": {
   "codemirror_mode": {
    "name": "ipython",
    "version": 3
   },
   "file_extension": ".py",
   "mimetype": "text/x-python",
   "name": "python",
   "nbconvert_exporter": "python",
   "pygments_lexer": "ipython3",
   "version": "3.9.12"
  }
 },
 "nbformat": 4,
 "nbformat_minor": 5
}
